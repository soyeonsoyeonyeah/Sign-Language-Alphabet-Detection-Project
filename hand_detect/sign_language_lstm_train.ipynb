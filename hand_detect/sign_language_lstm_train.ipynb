{
 "cells": [
  {
   "cell_type": "code",
   "execution_count": 1,
   "id": "8aa7ab81-e1c4-4a2b-bec0-2f24a785b80c",
   "metadata": {},
   "outputs": [],
   "source": [
    "import numpy as np\n",
    "import glob\n",
    "import os\n",
    "from tensorflow.keras.utils import to_categorical\n",
    "from sklearn.model_selection import train_test_split\n",
    "from tensorflow.keras.models import Sequential\n",
    "from tensorflow.keras.layers import LSTM, Dense, Flatten, Dropout\n",
    "from tensorflow.keras.callbacks import ModelCheckpoint, EarlyStopping"
   ]
  },
  {
   "cell_type": "code",
   "execution_count": 2,
   "id": "79a516cd-fc91-497a-b3a3-0d4e9c0013bb",
   "metadata": {},
   "outputs": [],
   "source": [
    "#GPU 사용하도록 설정\n",
    "os.environ[\"CUDA_VISIBLE_DEVICES\"] = \"0\""
   ]
  },
  {
   "cell_type": "code",
   "execution_count": 3,
   "id": "a0783399-65ef-48a2-b5bd-3a14156e4dc8",
   "metadata": {},
   "outputs": [],
   "source": [
    "gesture = {\n",
    "    0:\"A\", 1:\"B\", 2:\"C\", 3:\"D\", 4:\"E\", 5:\"F\", 6:\"G\", 7:\"H\", 8:\"I\", 9:\"J\", 10:\"K\", 11:\"L\", 12:\"M\", 13:\"N\",\n",
    "    14:\"O\", 15:\"P\", 16:\"Q\", 17:\"R\", 18:\"S\", 19:\"T\", 20:\"U\", 21:\"V\", 22:\"W\", 23:\"X\", 24:\"Y\", 25:\"Z\"\n",
    "}"
   ]
  },
  {
   "cell_type": "code",
   "execution_count": 4,
   "id": "bf57cc97-6842-41b6-b1d6-12d7e8f448a2",
   "metadata": {},
   "outputs": [],
   "source": [
    "path = \"./hand_dataset/*.npy\""
   ]
  },
  {
   "cell_type": "code",
   "execution_count": 5,
   "id": "e280a6d7-0fc0-4d18-a2f0-a1d0d52399b9",
   "metadata": {},
   "outputs": [
    {
     "data": {
      "text/plain": [
       "['./hand_dataset\\\\A-1726903694.npy',\n",
       " './hand_dataset\\\\A-1726903766.npy',\n",
       " './hand_dataset\\\\A_1721720113.npy',\n",
       " './hand_dataset\\\\B-1726903818.npy',\n",
       " './hand_dataset\\\\B_1721719540.npy',\n",
       " './hand_dataset\\\\B_1721720254.npy',\n",
       " './hand_dataset\\\\C-1726903900.npy',\n",
       " './hand_dataset\\\\C_1721719591.npy',\n",
       " './hand_dataset\\\\C_1721720352.npy',\n",
       " './hand_dataset\\\\D-1726904014.npy',\n",
       " './hand_dataset\\\\D_1721719643.npy',\n",
       " './hand_dataset\\\\D_1721720397.npy',\n",
       " './hand_dataset\\\\E-1726904060.npy',\n",
       " './hand_dataset\\\\E_1721719690.npy',\n",
       " './hand_dataset\\\\E_1721720442.npy',\n",
       " './hand_dataset\\\\F-1726904116.npy',\n",
       " './hand_dataset\\\\F_1721719739.npy',\n",
       " './hand_dataset\\\\F_1721722482.npy',\n",
       " './hand_dataset\\\\G-1726904362.npy',\n",
       " './hand_dataset\\\\G_1721719786.npy',\n",
       " './hand_dataset\\\\G_1721722528.npy',\n",
       " './hand_dataset\\\\H-1726904414.npy',\n",
       " './hand_dataset\\\\H_1721719834.npy',\n",
       " './hand_dataset\\\\H_1721722613.npy',\n",
       " './hand_dataset\\\\I-1726904459.npy',\n",
       " './hand_dataset\\\\I_1721719998.npy',\n",
       " './hand_dataset\\\\I_1721722659.npy',\n",
       " './hand_dataset\\\\J-1726904505.npy',\n",
       " './hand_dataset\\\\J_1721719936.npy',\n",
       " './hand_dataset\\\\J_1721722708.npy',\n",
       " './hand_dataset\\\\K-1726904557.npy',\n",
       " './hand_dataset\\\\K_1721722407.npy',\n",
       " './hand_dataset\\\\K_1721722452.npy',\n",
       " './hand_dataset\\\\L-1726904602.npy',\n",
       " './hand_dataset\\\\L_1721722508.npy',\n",
       " './hand_dataset\\\\L_1721722551.npy',\n",
       " './hand_dataset\\\\M-1726904671.npy',\n",
       " './hand_dataset\\\\M_1721722604.npy',\n",
       " './hand_dataset\\\\M_1721722652.npy',\n",
       " './hand_dataset\\\\N-1726904718.npy',\n",
       " './hand_dataset\\\\N_1721722697.npy',\n",
       " './hand_dataset\\\\N_1721722747.npy',\n",
       " './hand_dataset\\\\O-1726904760.npy',\n",
       " './hand_dataset\\\\O_1721722795.npy',\n",
       " './hand_dataset\\\\O_1721722836.npy',\n",
       " './hand_dataset\\\\P-1726904812.npy',\n",
       " './hand_dataset\\\\P_1721722888.npy',\n",
       " './hand_dataset\\\\P_1721722933.npy',\n",
       " './hand_dataset\\\\Q-1726904870.npy',\n",
       " './hand_dataset\\\\Q_1721722985.npy',\n",
       " './hand_dataset\\\\Q_1721723032.npy',\n",
       " './hand_dataset\\\\R-1726904922.npy',\n",
       " './hand_dataset\\\\R_1721723082.npy',\n",
       " './hand_dataset\\\\R_1721723125.npy',\n",
       " './hand_dataset\\\\S-1726904973.npy',\n",
       " './hand_dataset\\\\S_1721723179.npy',\n",
       " './hand_dataset\\\\S_1721723223.npy',\n",
       " './hand_dataset\\\\T-1726905027.npy',\n",
       " './hand_dataset\\\\T_1721723274.npy',\n",
       " './hand_dataset\\\\T_1721723318.npy',\n",
       " './hand_dataset\\\\U-1726905073.npy',\n",
       " './hand_dataset\\\\U_1721723373.npy',\n",
       " './hand_dataset\\\\U_1721723433.npy',\n",
       " './hand_dataset\\\\V-1726905115.npy',\n",
       " './hand_dataset\\\\V-1726905883.npy',\n",
       " './hand_dataset\\\\W-1726905155.npy',\n",
       " './hand_dataset\\\\X-1726905204.npy',\n",
       " './hand_dataset\\\\X-1726905948.npy',\n",
       " './hand_dataset\\\\Y-1726905253.npy',\n",
       " './hand_dataset\\\\Y-1726905987.npy',\n",
       " './hand_dataset\\\\Z-1726905310.npy',\n",
       " './hand_dataset\\\\Z-1726906086.npy']"
      ]
     },
     "execution_count": 5,
     "metadata": {},
     "output_type": "execute_result"
    }
   ],
   "source": [
    "file_list = glob.glob(path)\n",
    "file_list"
   ]
  },
  {
   "cell_type": "code",
   "execution_count": 6,
   "id": "4e9799af-a280-4ff6-9f34-134505d0b9ec",
   "metadata": {},
   "outputs": [
    {
     "name": "stdout",
     "output_type": "stream",
     "text": [
      "file= ./hand_dataset\\A-1726903694.npy\n",
      "data.shape= (540, 79)\n",
      "file= ./hand_dataset\\A-1726903766.npy\n",
      "data.shape= (540, 79)\n",
      "file= ./hand_dataset\\A_1721720113.npy\n",
      "data.shape= (540, 79)\n",
      "file= ./hand_dataset\\B-1726903818.npy\n",
      "data.shape= (540, 79)\n",
      "file= ./hand_dataset\\B_1721719540.npy\n",
      "data.shape= (540, 79)\n",
      "file= ./hand_dataset\\B_1721720254.npy\n",
      "data.shape= (540, 79)\n",
      "file= ./hand_dataset\\C-1726903900.npy\n",
      "data.shape= (540, 79)\n",
      "file= ./hand_dataset\\C_1721719591.npy\n",
      "data.shape= (540, 79)\n",
      "file= ./hand_dataset\\C_1721720352.npy\n",
      "data.shape= (540, 79)\n",
      "file= ./hand_dataset\\D-1726904014.npy\n",
      "data.shape= (540, 79)\n",
      "file= ./hand_dataset\\D_1721719643.npy\n",
      "data.shape= (540, 79)\n",
      "file= ./hand_dataset\\D_1721720397.npy\n",
      "data.shape= (540, 79)\n",
      "file= ./hand_dataset\\E-1726904060.npy\n",
      "data.shape= (540, 79)\n",
      "file= ./hand_dataset\\E_1721719690.npy\n",
      "data.shape= (540, 79)\n",
      "file= ./hand_dataset\\E_1721720442.npy\n",
      "data.shape= (540, 79)\n",
      "file= ./hand_dataset\\F-1726904116.npy\n",
      "data.shape= (540, 79)\n",
      "file= ./hand_dataset\\F_1721719739.npy\n",
      "data.shape= (540, 79)\n",
      "file= ./hand_dataset\\F_1721722482.npy\n",
      "data.shape= (540, 79)\n",
      "file= ./hand_dataset\\G-1726904362.npy\n",
      "data.shape= (540, 79)\n",
      "file= ./hand_dataset\\G_1721719786.npy\n",
      "data.shape= (540, 79)\n",
      "file= ./hand_dataset\\G_1721722528.npy\n",
      "data.shape= (540, 79)\n",
      "file= ./hand_dataset\\H-1726904414.npy\n",
      "data.shape= (540, 79)\n",
      "file= ./hand_dataset\\H_1721719834.npy\n",
      "data.shape= (540, 79)\n",
      "file= ./hand_dataset\\H_1721722613.npy\n",
      "data.shape= (540, 79)\n",
      "file= ./hand_dataset\\I-1726904459.npy\n",
      "data.shape= (540, 79)\n",
      "file= ./hand_dataset\\I_1721719998.npy\n",
      "data.shape= (540, 79)\n",
      "file= ./hand_dataset\\I_1721722659.npy\n",
      "data.shape= (540, 79)\n",
      "file= ./hand_dataset\\J-1726904505.npy\n",
      "data.shape= (540, 79)\n",
      "file= ./hand_dataset\\J_1721719936.npy\n",
      "data.shape= (540, 79)\n",
      "file= ./hand_dataset\\J_1721722708.npy\n",
      "data.shape= (540, 79)\n",
      "file= ./hand_dataset\\K-1726904557.npy\n",
      "data.shape= (540, 79)\n",
      "file= ./hand_dataset\\K_1721722407.npy\n",
      "data.shape= (540, 79)\n",
      "file= ./hand_dataset\\K_1721722452.npy\n",
      "data.shape= (540, 79)\n",
      "file= ./hand_dataset\\L-1726904602.npy\n",
      "data.shape= (540, 79)\n",
      "file= ./hand_dataset\\L_1721722508.npy\n",
      "data.shape= (540, 79)\n",
      "file= ./hand_dataset\\L_1721722551.npy\n",
      "data.shape= (540, 79)\n",
      "file= ./hand_dataset\\M-1726904671.npy\n",
      "data.shape= (540, 79)\n",
      "file= ./hand_dataset\\M_1721722604.npy\n",
      "data.shape= (540, 79)\n",
      "file= ./hand_dataset\\M_1721722652.npy\n",
      "data.shape= (540, 79)\n",
      "file= ./hand_dataset\\N-1726904718.npy\n",
      "data.shape= (540, 79)\n",
      "file= ./hand_dataset\\N_1721722697.npy\n",
      "data.shape= (540, 79)\n",
      "file= ./hand_dataset\\N_1721722747.npy\n",
      "data.shape= (540, 79)\n",
      "file= ./hand_dataset\\O-1726904760.npy\n",
      "data.shape= (540, 79)\n",
      "file= ./hand_dataset\\O_1721722795.npy\n",
      "data.shape= (540, 79)\n",
      "file= ./hand_dataset\\O_1721722836.npy\n",
      "data.shape= (540, 79)\n",
      "file= ./hand_dataset\\P-1726904812.npy\n",
      "data.shape= (540, 79)\n",
      "file= ./hand_dataset\\P_1721722888.npy\n",
      "data.shape= (540, 79)\n",
      "file= ./hand_dataset\\P_1721722933.npy\n",
      "data.shape= (540, 79)\n",
      "file= ./hand_dataset\\Q-1726904870.npy\n",
      "data.shape= (540, 79)\n",
      "file= ./hand_dataset\\Q_1721722985.npy\n",
      "data.shape= (540, 79)\n",
      "file= ./hand_dataset\\Q_1721723032.npy\n",
      "data.shape= (540, 79)\n",
      "file= ./hand_dataset\\R-1726904922.npy\n",
      "data.shape= (540, 79)\n",
      "file= ./hand_dataset\\R_1721723082.npy\n",
      "data.shape= (540, 79)\n",
      "file= ./hand_dataset\\R_1721723125.npy\n",
      "data.shape= (540, 79)\n",
      "file= ./hand_dataset\\S-1726904973.npy\n",
      "data.shape= (540, 79)\n",
      "file= ./hand_dataset\\S_1721723179.npy\n",
      "data.shape= (540, 79)\n",
      "file= ./hand_dataset\\S_1721723223.npy\n",
      "data.shape= (540, 79)\n",
      "file= ./hand_dataset\\T-1726905027.npy\n",
      "data.shape= (540, 79)\n",
      "file= ./hand_dataset\\T_1721723274.npy\n",
      "data.shape= (540, 79)\n",
      "file= ./hand_dataset\\T_1721723318.npy\n",
      "data.shape= (540, 79)\n",
      "file= ./hand_dataset\\U-1726905073.npy\n",
      "data.shape= (540, 79)\n",
      "file= ./hand_dataset\\U_1721723373.npy\n",
      "data.shape= (540, 79)\n",
      "file= ./hand_dataset\\U_1721723433.npy\n",
      "data.shape= (540, 79)\n",
      "file= ./hand_dataset\\V-1726905115.npy\n",
      "data.shape= (540, 79)\n",
      "file= ./hand_dataset\\V-1726905883.npy\n",
      "data.shape= (540, 79)\n",
      "file= ./hand_dataset\\W-1726905155.npy\n",
      "data.shape= (540, 79)\n",
      "file= ./hand_dataset\\X-1726905204.npy\n",
      "data.shape= (540, 79)\n",
      "file= ./hand_dataset\\X-1726905948.npy\n",
      "data.shape= (540, 79)\n",
      "file= ./hand_dataset\\Y-1726905253.npy\n",
      "data.shape= (540, 79)\n",
      "file= ./hand_dataset\\Y-1726905987.npy\n",
      "data.shape= (540, 79)\n",
      "file= ./hand_dataset\\Z-1726905310.npy\n",
      "data.shape= (540, 79)\n",
      "file= ./hand_dataset\\Z-1726906086.npy\n",
      "data.shape= (540, 79)\n"
     ]
    }
   ],
   "source": [
    "data_list = []\n",
    "for file in file_list:\n",
    "    print(\"file=\", file)\n",
    "    data = np.load(file)\n",
    "    print(\"data.shape=\", data[:540, :].shape)\n",
    "    data_list.extend(data[:540, :])"
   ]
  },
  {
   "cell_type": "code",
   "execution_count": 7,
   "id": "2bf6b9ed-08e0-4a6b-b798-bc4a5782d42f",
   "metadata": {},
   "outputs": [
    {
     "data": {
      "text/plain": [
       "38880"
      ]
     },
     "execution_count": 7,
     "metadata": {},
     "output_type": "execute_result"
    }
   ],
   "source": [
    "len(data_list)"
   ]
  },
  {
   "cell_type": "code",
   "execution_count": 9,
   "id": "d62ede71-c0cc-400a-a11f-562b2dcd6a00",
   "metadata": {},
   "outputs": [
    {
     "data": {
      "text/plain": [
       "array([[ 4.9234158e-01,  9.6115118e-01, -5.2998939e-07, ...,\n",
       "         4.3858547e+01,  1.1889682e+02,  0.0000000e+00],\n",
       "       [ 5.1829427e-01,  7.6567298e-01, -4.9394811e-07, ...,\n",
       "         5.5679295e+01,  5.2032928e+01,  0.0000000e+00],\n",
       "       [ 5.3892606e-01,  7.2008771e-01, -1.8606367e-07, ...,\n",
       "         1.4431424e+02,  6.3804428e+01,  0.0000000e+00],\n",
       "       ...,\n",
       "       [ 4.7306544e-01,  6.2992150e-01,  4.6825051e-08, ...,\n",
       "         8.9414604e+01,  6.6004005e+01,  2.5000000e+01],\n",
       "       [ 4.8888662e-01,  6.3018769e-01,  1.2027233e-07, ...,\n",
       "         6.9013115e+01,  7.8130768e+01,  2.5000000e+01],\n",
       "       [ 5.0208497e-01,  6.2503552e-01,  8.3170420e-08, ...,\n",
       "         6.7569412e+01,  7.8076332e+01,  2.5000000e+01]], dtype=float32)"
      ]
     },
     "execution_count": 9,
     "metadata": {},
     "output_type": "execute_result"
    }
   ],
   "source": [
    "all_data = np.array(data_list, dtype=np.float32)\n",
    "all_data"
   ]
  },
  {
   "cell_type": "code",
   "execution_count": 10,
   "id": "0b8380b2-9068-4edb-88c0-4f0472c7085d",
   "metadata": {},
   "outputs": [
    {
     "data": {
      "text/plain": [
       "(38880, 79)"
      ]
     },
     "execution_count": 10,
     "metadata": {},
     "output_type": "execute_result"
    }
   ],
   "source": [
    "all_data.shape"
   ]
  },
  {
   "cell_type": "code",
   "execution_count": 11,
   "id": "6c7bcd33-dd80-425e-9703-7e623c35024b",
   "metadata": {},
   "outputs": [
    {
     "data": {
      "text/plain": [
       "(7776, 5, 79)"
      ]
     },
     "execution_count": 11,
     "metadata": {},
     "output_type": "execute_result"
    }
   ],
   "source": [
    "all_data_lstm = all_data.reshape(-1, 5, 79)\n",
    "all_data_lstm.shape"
   ]
  },
  {
   "cell_type": "code",
   "execution_count": 12,
   "id": "2b4f58df-4aec-409e-921f-39b277249f96",
   "metadata": {},
   "outputs": [
    {
     "data": {
      "text/plain": [
       "array([[[ 4.92341578e-01,  9.61151183e-01, -5.29989393e-07, ...,\n",
       "          1.30777252e+02,  4.38585472e+01,  1.18896820e+02],\n",
       "        [ 5.18294275e-01,  7.65672982e-01, -4.93948107e-07, ...,\n",
       "          1.30593277e+02,  5.56792946e+01,  5.20329285e+01],\n",
       "        [ 5.38926065e-01,  7.20087707e-01, -1.86063673e-07, ...,\n",
       "          3.25502052e+01,  1.44314240e+02,  6.38044281e+01],\n",
       "        [ 5.44440687e-01,  6.53261304e-01, -1.87380195e-07, ...,\n",
       "          1.78087082e+01,  1.52062119e+02,  3.47539673e+01],\n",
       "        [ 5.48921227e-01,  5.91867328e-01, -2.60911577e-07, ...,\n",
       "          1.73126469e+01,  1.63197250e+02,  3.34668159e+01]],\n",
       "\n",
       "       [[ 5.46441376e-01,  5.39192617e-01, -3.39433143e-07, ...,\n",
       "          2.06088524e+01,  1.67759689e+02,  2.21394196e+01],\n",
       "        [ 5.39980531e-01,  5.00345349e-01, -3.84503295e-07, ...,\n",
       "          2.16697292e+01,  1.67811707e+02,  1.79285316e+01],\n",
       "        [ 5.39938986e-01,  4.80360836e-01, -3.85743618e-07, ...,\n",
       "          2.14865837e+01,  1.67894333e+02,  1.80005054e+01],\n",
       "        [ 5.43358982e-01,  4.71711636e-01, -4.01028274e-07, ...,\n",
       "          2.02010574e+01,  1.69341248e+02,  1.58733301e+01],\n",
       "        [ 5.43561220e-01,  4.70885783e-01, -4.15510726e-07, ...,\n",
       "          2.07627487e+01,  1.70299118e+02,  1.84785633e+01]],\n",
       "\n",
       "       [[ 5.44856250e-01,  4.78648573e-01, -4.35771398e-07, ...,\n",
       "          1.78130856e+01,  1.72052551e+02,  2.06611614e+01],\n",
       "        [ 5.48207283e-01,  4.90749687e-01, -4.56867610e-07, ...,\n",
       "          1.75450649e+01,  1.71661850e+02,  2.35756550e+01],\n",
       "        [ 5.52383244e-01,  5.02485096e-01, -4.73922171e-07, ...,\n",
       "          1.81450157e+01,  1.71659424e+02,  2.42800827e+01],\n",
       "        [ 5.57946742e-01,  5.14303684e-01, -4.68896985e-07, ...,\n",
       "          1.84030704e+01,  1.71890121e+02,  2.67990875e+01],\n",
       "        [ 5.60712159e-01,  5.22667885e-01, -4.43857203e-07, ...,\n",
       "          1.76935673e+01,  1.73123184e+02,  2.66875343e+01]],\n",
       "\n",
       "       ...,\n",
       "\n",
       "       [[ 2.96308547e-01,  5.84741771e-01, -1.72442629e-08, ...,\n",
       "          1.39173584e+02,  3.06366119e+01,  6.93295746e+01],\n",
       "        [ 2.80973345e-01,  5.92043877e-01, -4.13486099e-08, ...,\n",
       "          1.09587769e+02,  5.41890755e+01,  1.61625023e+01],\n",
       "        [ 2.70106941e-01,  6.04110122e-01, -4.34106404e-08, ...,\n",
       "          1.01683670e+02,  5.67101212e+01,  2.05916424e+01],\n",
       "        [ 2.66078115e-01,  6.19444728e-01,  5.87430762e-08, ...,\n",
       "          6.94691238e+01,  2.03042660e+01,  1.86035576e+01],\n",
       "        [ 2.66992897e-01,  6.30474508e-01,  6.99647131e-08, ...,\n",
       "          5.63333473e+01,  2.00627708e+01,  1.08154526e+01]],\n",
       "\n",
       "       [[ 2.62559861e-01,  6.50400460e-01, -6.72377851e-08, ...,\n",
       "          9.43813324e+01,  4.59529381e+01,  3.15733223e+01],\n",
       "        [ 2.61245161e-01,  6.65659249e-01, -5.01657560e-08, ...,\n",
       "          8.40496750e+01,  5.18532982e+01,  3.47086296e+01],\n",
       "        [ 2.88453162e-01,  6.81634665e-01, -1.17368941e-07, ...,\n",
       "          9.74043198e+01,  6.73356705e+01,  7.63246460e+01],\n",
       "        [ 2.99086511e-01,  6.83365941e-01,  2.85009296e-08, ...,\n",
       "          9.81518936e+01,  1.36649414e+02,  2.97347183e+01],\n",
       "        [ 3.50440592e-01,  6.69553399e-01, -7.56288969e-08, ...,\n",
       "          1.09336868e+02,  1.22177505e+02,  5.69291687e+01]],\n",
       "\n",
       "       [[ 3.65820885e-01,  6.74214125e-01,  6.69124844e-08, ...,\n",
       "          1.02741989e+02,  9.06770172e+01,  8.03333969e+01],\n",
       "        [ 3.84532124e-01,  6.76419914e-01,  2.06899088e-07, ...,\n",
       "          6.64447479e+01,  1.89204922e+01,  1.06881886e+01],\n",
       "        [ 4.73065436e-01,  6.29921496e-01,  4.68250505e-08, ...,\n",
       "          8.53179245e+01,  8.94146042e+01,  6.60040054e+01],\n",
       "        [ 4.88886625e-01,  6.30187690e-01,  1.20272333e-07, ...,\n",
       "          9.07207642e+01,  6.90131149e+01,  7.81307678e+01],\n",
       "        [ 5.02084970e-01,  6.25035524e-01,  8.31704199e-08, ...,\n",
       "          9.17618332e+01,  6.75694122e+01,  7.80763321e+01]]],\n",
       "      dtype=float32)"
      ]
     },
     "execution_count": 12,
     "metadata": {},
     "output_type": "execute_result"
    }
   ],
   "source": [
    "X_data = all_data_lstm[:,:,:-1]\n",
    "X_data"
   ]
  },
  {
   "cell_type": "code",
   "execution_count": 13,
   "id": "96b0862c-cfd4-4597-8411-33e7b88c3cde",
   "metadata": {},
   "outputs": [
    {
     "data": {
      "text/plain": [
       "array([ 0.,  0.,  0., ..., 25., 25., 25.], dtype=float32)"
      ]
     },
     "execution_count": 13,
     "metadata": {},
     "output_type": "execute_result"
    }
   ],
   "source": [
    "labels = all_data_lstm[:,0,-1]\n",
    "labels"
   ]
  },
  {
   "cell_type": "code",
   "execution_count": 14,
   "id": "abcc0bae-6aaa-4d60-adf6-1e266a352d33",
   "metadata": {},
   "outputs": [
    {
     "data": {
      "text/plain": [
       "array([[1., 0., 0., ..., 0., 0., 0.],\n",
       "       [1., 0., 0., ..., 0., 0., 0.],\n",
       "       [1., 0., 0., ..., 0., 0., 0.],\n",
       "       ...,\n",
       "       [0., 0., 0., ..., 0., 0., 1.],\n",
       "       [0., 0., 0., ..., 0., 0., 1.],\n",
       "       [0., 0., 0., ..., 0., 0., 1.]], dtype=float32)"
      ]
     },
     "execution_count": 14,
     "metadata": {},
     "output_type": "execute_result"
    }
   ],
   "source": [
    "y_data = to_categorical(labels, num_classes=len(gesture))\n",
    "y_data"
   ]
  },
  {
   "cell_type": "code",
   "execution_count": 15,
   "id": "cee80460-991d-4aa7-8e59-230bf953772b",
   "metadata": {},
   "outputs": [],
   "source": [
    "X_train, X_test, y_train, y_test = train_test_split(X_data, y_data, test_size=0.1)"
   ]
  },
  {
   "cell_type": "code",
   "execution_count": 16,
   "id": "613ffb33-10af-47d2-8ba4-933002229e90",
   "metadata": {},
   "outputs": [
    {
     "data": {
      "text/plain": [
       "array([[[ 5.45611024e-01,  3.50237906e-01,  7.60441253e-07, ...,\n",
       "          6.62233276e+01,  1.05251236e+02,  4.47323532e+01],\n",
       "        [ 5.08223236e-01,  3.73017728e-01,  6.04373838e-07, ...,\n",
       "          6.38233681e+01,  7.50317230e+01,  4.57805405e+01],\n",
       "        [ 5.00979125e-01,  4.21817780e-01,  5.59251077e-07, ...,\n",
       "          7.29456482e+01,  6.79581604e+01,  4.55314026e+01],\n",
       "        [ 5.04022837e-01,  4.40775305e-01,  5.93977518e-07, ...,\n",
       "          6.44964905e+01,  6.86083450e+01,  4.58035583e+01],\n",
       "        [ 5.06257892e-01,  4.54897225e-01,  6.16927196e-07, ...,\n",
       "          7.22441177e+01,  6.94507523e+01,  4.38472862e+01]],\n",
       "\n",
       "       [[ 4.33888882e-01,  4.93212998e-01, -3.02041798e-07, ...,\n",
       "          2.37246914e+01,  1.34024643e+02,  2.88025665e+01],\n",
       "        [ 4.26506907e-01,  4.92526352e-01, -3.10838601e-07, ...,\n",
       "          2.34994965e+01,  1.29867538e+02,  3.06327171e+01],\n",
       "        [ 4.17606711e-01,  4.92050052e-01, -3.21365349e-07, ...,\n",
       "          2.39757729e+01,  1.27471832e+02,  2.90656452e+01],\n",
       "        [ 4.08721089e-01,  4.89916891e-01, -3.15868220e-07, ...,\n",
       "          2.36472092e+01,  1.28745712e+02,  2.89594688e+01],\n",
       "        [ 4.01661932e-01,  4.88802224e-01, -3.15687714e-07, ...,\n",
       "          2.28517399e+01,  1.29573578e+02,  2.97083569e+01]],\n",
       "\n",
       "       [[ 7.14373469e-01,  5.40978372e-01, -6.80931578e-07, ...,\n",
       "          5.67584991e+01,  1.22590111e+02,  1.16900864e+01],\n",
       "        [ 7.08458066e-01,  5.46575308e-01, -6.88525404e-07, ...,\n",
       "          5.64902382e+01,  1.22533432e+02,  1.25322676e+01],\n",
       "        [ 7.00383544e-01,  5.49613833e-01, -6.12206065e-07, ...,\n",
       "          4.23718948e+01,  1.34897842e+02,  1.24009609e+01],\n",
       "        [ 6.88639998e-01,  5.46296239e-01, -5.94200287e-07, ...,\n",
       "          4.16081886e+01,  1.34524506e+02,  1.65114384e+01],\n",
       "        [ 6.80650473e-01,  5.46416998e-01, -5.33574223e-07, ...,\n",
       "          4.59398270e+01,  1.30545273e+02,  1.49357853e+01]],\n",
       "\n",
       "       ...,\n",
       "\n",
       "       [[ 7.92105258e-01,  7.12625742e-01, -2.70851217e-07, ...,\n",
       "          8.30823288e+01,  1.06349693e+02,  3.04522648e+01],\n",
       "        [ 7.85411179e-01,  7.17870951e-01, -2.37549116e-07, ...,\n",
       "          7.98569031e+01,  1.10877937e+02,  2.85547142e+01],\n",
       "        [ 7.86022127e-01,  7.08111584e-01, -2.36641270e-07, ...,\n",
       "          8.10651016e+01,  1.12729179e+02,  2.91583080e+01],\n",
       "        [ 7.89670289e-01,  7.03895152e-01, -2.38484745e-07, ...,\n",
       "          8.25199127e+01,  1.05966896e+02,  3.20825043e+01],\n",
       "        [ 7.80971885e-01,  7.03983128e-01, -2.05149178e-07, ...,\n",
       "          8.08987656e+01,  1.04312103e+02,  3.22865028e+01]],\n",
       "\n",
       "       [[ 5.40141106e-01,  6.05922520e-01,  1.62609069e-07, ...,\n",
       "          4.60527458e+01,  4.27861023e+01,  2.91023464e+01],\n",
       "        [ 5.35994589e-01,  6.09271884e-01,  1.42053523e-07, ...,\n",
       "          4.46178093e+01,  4.20150146e+01,  3.05543003e+01],\n",
       "        [ 5.33122122e-01,  6.11426294e-01,  1.69449322e-07, ...,\n",
       "          4.39991913e+01,  4.00067329e+01,  3.12830753e+01],\n",
       "        [ 5.28237462e-01,  6.11900210e-01,  1.52719451e-07, ...,\n",
       "          4.19001236e+01,  4.35308151e+01,  3.29856186e+01],\n",
       "        [ 5.22566974e-01,  6.11167431e-01,  1.73742876e-07, ...,\n",
       "          4.23307457e+01,  4.38831406e+01,  3.55997047e+01]],\n",
       "\n",
       "       [[ 6.39124751e-01,  4.90181983e-01,  3.88646093e-09, ...,\n",
       "          2.41828384e+01,  1.19640114e+02,  2.25896683e+01],\n",
       "        [ 6.43983483e-01,  4.93738413e-01,  8.47852775e-08, ...,\n",
       "          1.50890665e+01,  8.36875076e+01,  4.74223824e+01],\n",
       "        [ 6.50237799e-01,  4.98519808e-01,  1.56377141e-07, ...,\n",
       "          1.91957607e+01,  1.28712036e+02,  1.61784897e+01],\n",
       "        [ 6.55197918e-01,  5.01566827e-01,  2.07031462e-07, ...,\n",
       "          2.05369415e+01,  1.27222755e+02,  1.81575584e+01],\n",
       "        [ 6.58013523e-01,  5.00878751e-01,  2.13237271e-07, ...,\n",
       "          2.15427399e+01,  1.16168297e+02,  2.19218750e+01]]],\n",
       "      dtype=float32)"
      ]
     },
     "execution_count": 16,
     "metadata": {},
     "output_type": "execute_result"
    }
   ],
   "source": [
    "X_train"
   ]
  },
  {
   "cell_type": "code",
   "execution_count": 17,
   "id": "19655127-2992-44f9-8de7-75a39f83f520",
   "metadata": {},
   "outputs": [
    {
     "data": {
      "text/plain": [
       "array([[0., 0., 0., 0., 0., 0., 0., 1., 0., 0., 0., 0., 0., 0., 0., 0.,\n",
       "        0., 0., 0., 0., 0., 0., 0., 0., 0., 0.],\n",
       "       [0., 0., 0., 0., 0., 0., 0., 0., 0., 0., 0., 0., 1., 0., 0., 0.,\n",
       "        0., 0., 0., 0., 0., 0., 0., 0., 0., 0.],\n",
       "       [0., 0., 0., 0., 0., 0., 0., 0., 0., 0., 0., 0., 1., 0., 0., 0.,\n",
       "        0., 0., 0., 0., 0., 0., 0., 0., 0., 0.],\n",
       "       [0., 0., 0., 0., 0., 0., 0., 0., 0., 0., 0., 0., 0., 0., 0., 0.,\n",
       "        0., 1., 0., 0., 0., 0., 0., 0., 0., 0.],\n",
       "       [0., 0., 0., 0., 0., 1., 0., 0., 0., 0., 0., 0., 0., 0., 0., 0.,\n",
       "        0., 0., 0., 0., 0., 0., 0., 0., 0., 0.]], dtype=float32)"
      ]
     },
     "execution_count": 17,
     "metadata": {},
     "output_type": "execute_result"
    }
   ],
   "source": [
    "y_train[0:5]"
   ]
  },
  {
   "cell_type": "code",
   "execution_count": 31,
   "id": "73e12e0e-732d-4445-a7ea-0b013ee79acb",
   "metadata": {},
   "outputs": [],
   "source": [
    "model = Sequential()"
   ]
  },
  {
   "cell_type": "code",
   "execution_count": 32,
   "id": "8582ea0c-d74c-47bf-b67b-1446a24bec73",
   "metadata": {},
   "outputs": [],
   "source": [
    "model.add(LSTM(256, input_shape=(5, 78)))"
   ]
  },
  {
   "cell_type": "code",
   "execution_count": 33,
   "id": "2c170b5d-c721-44d7-948a-b41a01fc799e",
   "metadata": {},
   "outputs": [],
   "source": [
    "model.add(Flatten())"
   ]
  },
  {
   "cell_type": "code",
   "execution_count": 34,
   "id": "618a8897-db43-4335-a32e-a2f5ff784bbf",
   "metadata": {},
   "outputs": [],
   "source": [
    "model.add(Dense(128, activation='relu'))"
   ]
  },
  {
   "cell_type": "code",
   "execution_count": 35,
   "id": "a46bb509-cab6-4b63-a822-48bffa5e8711",
   "metadata": {},
   "outputs": [],
   "source": [
    "model.add(Dropout(0.5))"
   ]
  },
  {
   "cell_type": "code",
   "execution_count": 36,
   "id": "3bd2f946-daad-4219-b3e4-9ff466d8d7b1",
   "metadata": {},
   "outputs": [],
   "source": [
    "model.add(Dense(64, activation='relu'))"
   ]
  },
  {
   "cell_type": "code",
   "execution_count": 37,
   "id": "470af8ca-3471-4568-b20b-5aee22a672bc",
   "metadata": {},
   "outputs": [],
   "source": [
    "model.add(Dropout(0.5))"
   ]
  },
  {
   "cell_type": "code",
   "execution_count": 38,
   "id": "f91a919a-8e4e-4999-9adc-73cf56be04f0",
   "metadata": {},
   "outputs": [],
   "source": [
    "model.add(Dense(32, activation='relu'))\n",
    "model.add(Dropout(0.5))"
   ]
  },
  {
   "cell_type": "code",
   "execution_count": 39,
   "id": "f7d84c97-a67d-4671-b543-f26593d37d9c",
   "metadata": {},
   "outputs": [],
   "source": [
    "model.add(Dense(len(gesture), activation='softmax'))"
   ]
  },
  {
   "cell_type": "code",
   "execution_count": 40,
   "id": "21411859-7fbe-4a74-b5da-bbb163645b6f",
   "metadata": {},
   "outputs": [],
   "source": [
    "model.compile(optimizer='adam', loss='categorical_crossentropy', metrics=['acc'])"
   ]
  },
  {
   "cell_type": "code",
   "execution_count": 41,
   "id": "f40cbd78-db04-40b2-bd21-3c7cee65bbde",
   "metadata": {},
   "outputs": [],
   "source": [
    "cb_checkpoint = ModelCheckpoint(filepath='./hand_lstm_train_result/', monitor='val_acc', save_best_only=True)"
   ]
  },
  {
   "cell_type": "code",
   "execution_count": 42,
   "id": "6e57aa5e-6aee-4dce-8033-f2a3865d2f59",
   "metadata": {},
   "outputs": [],
   "source": [
    "earlystopping = EarlyStopping(monitor=\"val_loss\", patience=30)"
   ]
  },
  {
   "cell_type": "code",
   "execution_count": 43,
   "id": "9beca89c-1b99-4ba4-88ee-5dcd03f773f7",
   "metadata": {},
   "outputs": [
    {
     "name": "stdout",
     "output_type": "stream",
     "text": [
      "Epoch 1/100\n",
      "208/219 [===========================>..] - ETA: 0s - loss: 2.9665 - acc: 0.1340"
     ]
    },
    {
     "name": "stderr",
     "output_type": "stream",
     "text": [
      "WARNING:absl:Found untraced functions such as lstm_cell_1_layer_call_fn, lstm_cell_1_layer_call_and_return_conditional_losses while saving (showing 2 of 2). These functions will not be directly callable after loading.\n"
     ]
    },
    {
     "name": "stdout",
     "output_type": "stream",
     "text": [
      "INFO:tensorflow:Assets written to: ./hand_lstm_train_result\\assets\n"
     ]
    },
    {
     "name": "stderr",
     "output_type": "stream",
     "text": [
      "INFO:tensorflow:Assets written to: ./hand_lstm_train_result\\assets\n"
     ]
    },
    {
     "name": "stdout",
     "output_type": "stream",
     "text": [
      "219/219 [==============================] - 11s 19ms/step - loss: 2.9476 - acc: 0.1389 - val_loss: 2.3531 - val_acc: 0.3175\n",
      "Epoch 2/100\n",
      "211/219 [===========================>..] - ETA: 0s - loss: 2.3556 - acc: 0.2475"
     ]
    },
    {
     "name": "stderr",
     "output_type": "stream",
     "text": [
      "WARNING:absl:Found untraced functions such as lstm_cell_1_layer_call_fn, lstm_cell_1_layer_call_and_return_conditional_losses while saving (showing 2 of 2). These functions will not be directly callable after loading.\n"
     ]
    },
    {
     "name": "stdout",
     "output_type": "stream",
     "text": [
      "INFO:tensorflow:Assets written to: ./hand_lstm_train_result\\assets\n"
     ]
    },
    {
     "name": "stderr",
     "output_type": "stream",
     "text": [
      "INFO:tensorflow:Assets written to: ./hand_lstm_train_result\\assets\n"
     ]
    },
    {
     "name": "stdout",
     "output_type": "stream",
     "text": [
      "219/219 [==============================] - 3s 16ms/step - loss: 2.3491 - acc: 0.2495 - val_loss: 1.7347 - val_acc: 0.5026\n",
      "Epoch 3/100\n",
      "203/219 [==========================>...] - ETA: 0s - loss: 1.9613 - acc: 0.3264"
     ]
    },
    {
     "name": "stderr",
     "output_type": "stream",
     "text": [
      "WARNING:absl:Found untraced functions such as lstm_cell_1_layer_call_fn, lstm_cell_1_layer_call_and_return_conditional_losses while saving (showing 2 of 2). These functions will not be directly callable after loading.\n"
     ]
    },
    {
     "name": "stdout",
     "output_type": "stream",
     "text": [
      "INFO:tensorflow:Assets written to: ./hand_lstm_train_result\\assets\n"
     ]
    },
    {
     "name": "stderr",
     "output_type": "stream",
     "text": [
      "INFO:tensorflow:Assets written to: ./hand_lstm_train_result\\assets\n"
     ]
    },
    {
     "name": "stdout",
     "output_type": "stream",
     "text": [
      "219/219 [==============================] - 3s 14ms/step - loss: 1.9444 - acc: 0.3310 - val_loss: 1.3094 - val_acc: 0.5540\n",
      "Epoch 4/100\n",
      "207/219 [===========================>..] - ETA: 0s - loss: 1.6745 - acc: 0.3860"
     ]
    },
    {
     "name": "stderr",
     "output_type": "stream",
     "text": [
      "WARNING:absl:Found untraced functions such as lstm_cell_1_layer_call_fn, lstm_cell_1_layer_call_and_return_conditional_losses while saving (showing 2 of 2). These functions will not be directly callable after loading.\n"
     ]
    },
    {
     "name": "stdout",
     "output_type": "stream",
     "text": [
      "INFO:tensorflow:Assets written to: ./hand_lstm_train_result\\assets\n"
     ]
    },
    {
     "name": "stderr",
     "output_type": "stream",
     "text": [
      "INFO:tensorflow:Assets written to: ./hand_lstm_train_result\\assets\n"
     ]
    },
    {
     "name": "stdout",
     "output_type": "stream",
     "text": [
      "219/219 [==============================] - 3s 14ms/step - loss: 1.6722 - acc: 0.3865 - val_loss: 1.1283 - val_acc: 0.5553\n",
      "Epoch 5/100\n",
      "216/219 [============================>.] - ETA: 0s - loss: 1.4674 - acc: 0.4303"
     ]
    },
    {
     "name": "stderr",
     "output_type": "stream",
     "text": [
      "WARNING:absl:Found untraced functions such as lstm_cell_1_layer_call_fn, lstm_cell_1_layer_call_and_return_conditional_losses while saving (showing 2 of 2). These functions will not be directly callable after loading.\n"
     ]
    },
    {
     "name": "stdout",
     "output_type": "stream",
     "text": [
      "INFO:tensorflow:Assets written to: ./hand_lstm_train_result\\assets\n"
     ]
    },
    {
     "name": "stderr",
     "output_type": "stream",
     "text": [
      "INFO:tensorflow:Assets written to: ./hand_lstm_train_result\\assets\n"
     ]
    },
    {
     "name": "stdout",
     "output_type": "stream",
     "text": [
      "219/219 [==============================] - 3s 14ms/step - loss: 1.4650 - acc: 0.4314 - val_loss: 0.9820 - val_acc: 0.6131\n",
      "Epoch 6/100\n",
      "219/219 [==============================] - 1s 4ms/step - loss: 1.3535 - acc: 0.4680 - val_loss: 0.9373 - val_acc: 0.5848\n",
      "Epoch 7/100\n",
      "212/219 [============================>.] - ETA: 0s - loss: 1.2626 - acc: 0.4971"
     ]
    },
    {
     "name": "stderr",
     "output_type": "stream",
     "text": [
      "WARNING:absl:Found untraced functions such as lstm_cell_1_layer_call_fn, lstm_cell_1_layer_call_and_return_conditional_losses while saving (showing 2 of 2). These functions will not be directly callable after loading.\n"
     ]
    },
    {
     "name": "stdout",
     "output_type": "stream",
     "text": [
      "INFO:tensorflow:Assets written to: ./hand_lstm_train_result\\assets\n"
     ]
    },
    {
     "name": "stderr",
     "output_type": "stream",
     "text": [
      "INFO:tensorflow:Assets written to: ./hand_lstm_train_result\\assets\n"
     ]
    },
    {
     "name": "stdout",
     "output_type": "stream",
     "text": [
      "219/219 [==============================] - 3s 14ms/step - loss: 1.2629 - acc: 0.4971 - val_loss: 0.8539 - val_acc: 0.6260\n",
      "Epoch 8/100\n",
      "219/219 [==============================] - 1s 4ms/step - loss: 1.1776 - acc: 0.5113 - val_loss: 0.8276 - val_acc: 0.5874\n",
      "Epoch 9/100\n",
      "219/219 [==============================] - 1s 3ms/step - loss: 1.1473 - acc: 0.5306 - val_loss: 0.8085 - val_acc: 0.6054\n",
      "Epoch 10/100\n",
      "213/219 [============================>.] - ETA: 0s - loss: 1.1321 - acc: 0.5324"
     ]
    },
    {
     "name": "stderr",
     "output_type": "stream",
     "text": [
      "WARNING:absl:Found untraced functions such as lstm_cell_1_layer_call_fn, lstm_cell_1_layer_call_and_return_conditional_losses while saving (showing 2 of 2). These functions will not be directly callable after loading.\n"
     ]
    },
    {
     "name": "stdout",
     "output_type": "stream",
     "text": [
      "INFO:tensorflow:Assets written to: ./hand_lstm_train_result\\assets\n"
     ]
    },
    {
     "name": "stderr",
     "output_type": "stream",
     "text": [
      "INFO:tensorflow:Assets written to: ./hand_lstm_train_result\\assets\n"
     ]
    },
    {
     "name": "stdout",
     "output_type": "stream",
     "text": [
      "219/219 [==============================] - 3s 13ms/step - loss: 1.1314 - acc: 0.5320 - val_loss: 0.7855 - val_acc: 0.6337\n",
      "Epoch 11/100\n",
      "213/219 [============================>.] - ETA: 0s - loss: 1.0872 - acc: 0.5421"
     ]
    },
    {
     "name": "stderr",
     "output_type": "stream",
     "text": [
      "WARNING:absl:Found untraced functions such as lstm_cell_1_layer_call_fn, lstm_cell_1_layer_call_and_return_conditional_losses while saving (showing 2 of 2). These functions will not be directly callable after loading.\n"
     ]
    },
    {
     "name": "stdout",
     "output_type": "stream",
     "text": [
      "INFO:tensorflow:Assets written to: ./hand_lstm_train_result\\assets\n"
     ]
    },
    {
     "name": "stderr",
     "output_type": "stream",
     "text": [
      "INFO:tensorflow:Assets written to: ./hand_lstm_train_result\\assets\n"
     ]
    },
    {
     "name": "stdout",
     "output_type": "stream",
     "text": [
      "219/219 [==============================] - 3s 13ms/step - loss: 1.0851 - acc: 0.5432 - val_loss: 0.7983 - val_acc: 0.6401\n",
      "Epoch 12/100\n",
      "214/219 [============================>.] - ETA: 0s - loss: 1.1009 - acc: 0.5473"
     ]
    },
    {
     "name": "stderr",
     "output_type": "stream",
     "text": [
      "WARNING:absl:Found untraced functions such as lstm_cell_1_layer_call_fn, lstm_cell_1_layer_call_and_return_conditional_losses while saving (showing 2 of 2). These functions will not be directly callable after loading.\n"
     ]
    },
    {
     "name": "stdout",
     "output_type": "stream",
     "text": [
      "INFO:tensorflow:Assets written to: ./hand_lstm_train_result\\assets\n"
     ]
    },
    {
     "name": "stderr",
     "output_type": "stream",
     "text": [
      "INFO:tensorflow:Assets written to: ./hand_lstm_train_result\\assets\n"
     ]
    },
    {
     "name": "stdout",
     "output_type": "stream",
     "text": [
      "219/219 [==============================] - 3s 14ms/step - loss: 1.0977 - acc: 0.5483 - val_loss: 0.7920 - val_acc: 0.6440\n",
      "Epoch 13/100\n",
      "209/219 [===========================>..] - ETA: 0s - loss: 1.0374 - acc: 0.5621"
     ]
    },
    {
     "name": "stderr",
     "output_type": "stream",
     "text": [
      "WARNING:absl:Found untraced functions such as lstm_cell_1_layer_call_fn, lstm_cell_1_layer_call_and_return_conditional_losses while saving (showing 2 of 2). These functions will not be directly callable after loading.\n"
     ]
    },
    {
     "name": "stdout",
     "output_type": "stream",
     "text": [
      "INFO:tensorflow:Assets written to: ./hand_lstm_train_result\\assets\n"
     ]
    },
    {
     "name": "stderr",
     "output_type": "stream",
     "text": [
      "INFO:tensorflow:Assets written to: ./hand_lstm_train_result\\assets\n"
     ]
    },
    {
     "name": "stdout",
     "output_type": "stream",
     "text": [
      "219/219 [==============================] - 3s 13ms/step - loss: 1.0380 - acc: 0.5627 - val_loss: 0.7706 - val_acc: 0.6491\n",
      "Epoch 14/100\n",
      "216/219 [============================>.] - ETA: 0s - loss: 1.0047 - acc: 0.5757"
     ]
    },
    {
     "name": "stderr",
     "output_type": "stream",
     "text": [
      "WARNING:absl:Found untraced functions such as lstm_cell_1_layer_call_fn, lstm_cell_1_layer_call_and_return_conditional_losses while saving (showing 2 of 2). These functions will not be directly callable after loading.\n"
     ]
    },
    {
     "name": "stdout",
     "output_type": "stream",
     "text": [
      "INFO:tensorflow:Assets written to: ./hand_lstm_train_result\\assets\n"
     ]
    },
    {
     "name": "stderr",
     "output_type": "stream",
     "text": [
      "INFO:tensorflow:Assets written to: ./hand_lstm_train_result\\assets\n"
     ]
    },
    {
     "name": "stdout",
     "output_type": "stream",
     "text": [
      "219/219 [==============================] - 3s 15ms/step - loss: 1.0054 - acc: 0.5752 - val_loss: 0.7511 - val_acc: 0.6774\n",
      "Epoch 15/100\n",
      "216/219 [============================>.] - ETA: 0s - loss: 0.9903 - acc: 0.5802"
     ]
    },
    {
     "name": "stderr",
     "output_type": "stream",
     "text": [
      "WARNING:absl:Found untraced functions such as lstm_cell_1_layer_call_fn, lstm_cell_1_layer_call_and_return_conditional_losses while saving (showing 2 of 2). These functions will not be directly callable after loading.\n"
     ]
    },
    {
     "name": "stdout",
     "output_type": "stream",
     "text": [
      "INFO:tensorflow:Assets written to: ./hand_lstm_train_result\\assets\n"
     ]
    },
    {
     "name": "stderr",
     "output_type": "stream",
     "text": [
      "INFO:tensorflow:Assets written to: ./hand_lstm_train_result\\assets\n"
     ]
    },
    {
     "name": "stdout",
     "output_type": "stream",
     "text": [
      "219/219 [==============================] - 3s 14ms/step - loss: 0.9889 - acc: 0.5810 - val_loss: 0.7745 - val_acc: 0.7185\n",
      "Epoch 16/100\n",
      "219/219 [==============================] - 1s 4ms/step - loss: 0.9635 - acc: 0.5952 - val_loss: 0.7068 - val_acc: 0.6812\n",
      "Epoch 17/100\n",
      "219/219 [==============================] - 1s 4ms/step - loss: 0.9586 - acc: 0.5917 - val_loss: 0.7423 - val_acc: 0.6427\n",
      "Epoch 18/100\n",
      "208/219 [===========================>..] - ETA: 0s - loss: 0.9514 - acc: 0.6044"
     ]
    },
    {
     "name": "stderr",
     "output_type": "stream",
     "text": [
      "WARNING:absl:Found untraced functions such as lstm_cell_1_layer_call_fn, lstm_cell_1_layer_call_and_return_conditional_losses while saving (showing 2 of 2). These functions will not be directly callable after loading.\n"
     ]
    },
    {
     "name": "stdout",
     "output_type": "stream",
     "text": [
      "INFO:tensorflow:Assets written to: ./hand_lstm_train_result\\assets\n"
     ]
    },
    {
     "name": "stderr",
     "output_type": "stream",
     "text": [
      "INFO:tensorflow:Assets written to: ./hand_lstm_train_result\\assets\n"
     ]
    },
    {
     "name": "stdout",
     "output_type": "stream",
     "text": [
      "219/219 [==============================] - 3s 13ms/step - loss: 0.9492 - acc: 0.6042 - val_loss: 0.6997 - val_acc: 0.7237\n",
      "Epoch 19/100\n",
      "219/219 [==============================] - 1s 4ms/step - loss: 0.9213 - acc: 0.6179 - val_loss: 0.6818 - val_acc: 0.7082\n",
      "Epoch 20/100\n",
      "219/219 [==============================] - 1s 4ms/step - loss: 0.9022 - acc: 0.6268 - val_loss: 0.6641 - val_acc: 0.7211\n",
      "Epoch 21/100\n",
      "208/219 [===========================>..] - ETA: 0s - loss: 0.8827 - acc: 0.6343"
     ]
    },
    {
     "name": "stderr",
     "output_type": "stream",
     "text": [
      "WARNING:absl:Found untraced functions such as lstm_cell_1_layer_call_fn, lstm_cell_1_layer_call_and_return_conditional_losses while saving (showing 2 of 2). These functions will not be directly callable after loading.\n"
     ]
    },
    {
     "name": "stdout",
     "output_type": "stream",
     "text": [
      "INFO:tensorflow:Assets written to: ./hand_lstm_train_result\\assets\n"
     ]
    },
    {
     "name": "stderr",
     "output_type": "stream",
     "text": [
      "INFO:tensorflow:Assets written to: ./hand_lstm_train_result\\assets\n"
     ]
    },
    {
     "name": "stdout",
     "output_type": "stream",
     "text": [
      "219/219 [==============================] - 3s 14ms/step - loss: 0.8904 - acc: 0.6333 - val_loss: 0.6381 - val_acc: 0.7275\n",
      "Epoch 22/100\n",
      "209/219 [===========================>..] - ETA: 0s - loss: 0.8874 - acc: 0.6320"
     ]
    },
    {
     "name": "stderr",
     "output_type": "stream",
     "text": [
      "WARNING:absl:Found untraced functions such as lstm_cell_1_layer_call_fn, lstm_cell_1_layer_call_and_return_conditional_losses while saving (showing 2 of 2). These functions will not be directly callable after loading.\n"
     ]
    },
    {
     "name": "stdout",
     "output_type": "stream",
     "text": [
      "INFO:tensorflow:Assets written to: ./hand_lstm_train_result\\assets\n"
     ]
    },
    {
     "name": "stderr",
     "output_type": "stream",
     "text": [
      "INFO:tensorflow:Assets written to: ./hand_lstm_train_result\\assets\n"
     ]
    },
    {
     "name": "stdout",
     "output_type": "stream",
     "text": [
      "219/219 [==============================] - 3s 14ms/step - loss: 0.8822 - acc: 0.6346 - val_loss: 0.5973 - val_acc: 0.7648\n",
      "Epoch 23/100\n",
      "214/219 [============================>.] - ETA: 0s - loss: 0.8707 - acc: 0.6497"
     ]
    },
    {
     "name": "stderr",
     "output_type": "stream",
     "text": [
      "WARNING:absl:Found untraced functions such as lstm_cell_1_layer_call_fn, lstm_cell_1_layer_call_and_return_conditional_losses while saving (showing 2 of 2). These functions will not be directly callable after loading.\n"
     ]
    },
    {
     "name": "stdout",
     "output_type": "stream",
     "text": [
      "INFO:tensorflow:Assets written to: ./hand_lstm_train_result\\assets\n"
     ]
    },
    {
     "name": "stderr",
     "output_type": "stream",
     "text": [
      "INFO:tensorflow:Assets written to: ./hand_lstm_train_result\\assets\n"
     ]
    },
    {
     "name": "stdout",
     "output_type": "stream",
     "text": [
      "219/219 [==============================] - 3s 15ms/step - loss: 0.8712 - acc: 0.6488 - val_loss: 0.6024 - val_acc: 0.7853\n",
      "Epoch 24/100\n",
      "219/219 [==============================] - 1s 4ms/step - loss: 0.8605 - acc: 0.6486 - val_loss: 0.5760 - val_acc: 0.7853\n",
      "Epoch 25/100\n",
      "206/219 [===========================>..] - ETA: 0s - loss: 0.7961 - acc: 0.6778"
     ]
    },
    {
     "name": "stderr",
     "output_type": "stream",
     "text": [
      "WARNING:absl:Found untraced functions such as lstm_cell_1_layer_call_fn, lstm_cell_1_layer_call_and_return_conditional_losses while saving (showing 2 of 2). These functions will not be directly callable after loading.\n"
     ]
    },
    {
     "name": "stdout",
     "output_type": "stream",
     "text": [
      "INFO:tensorflow:Assets written to: ./hand_lstm_train_result\\assets\n"
     ]
    },
    {
     "name": "stderr",
     "output_type": "stream",
     "text": [
      "INFO:tensorflow:Assets written to: ./hand_lstm_train_result\\assets\n"
     ]
    },
    {
     "name": "stdout",
     "output_type": "stream",
     "text": [
      "219/219 [==============================] - 3s 13ms/step - loss: 0.7969 - acc: 0.6779 - val_loss: 0.5599 - val_acc: 0.7995\n",
      "Epoch 26/100\n",
      "219/219 [==============================] - 1s 4ms/step - loss: 0.8342 - acc: 0.6632 - val_loss: 0.5490 - val_acc: 0.7776\n",
      "Epoch 27/100\n",
      "219/219 [==============================] - 1s 4ms/step - loss: 0.8452 - acc: 0.6613 - val_loss: 0.5395 - val_acc: 0.7545\n",
      "Epoch 28/100\n",
      "219/219 [==============================] - 1s 4ms/step - loss: 0.8281 - acc: 0.6753 - val_loss: 0.5451 - val_acc: 0.7763\n",
      "Epoch 29/100\n",
      "219/219 [==============================] - 1s 4ms/step - loss: 0.8020 - acc: 0.6729 - val_loss: 0.5094 - val_acc: 0.7866\n",
      "Epoch 30/100\n",
      "219/219 [==============================] - ETA: 0s - loss: 0.7696 - acc: 0.6931"
     ]
    },
    {
     "name": "stderr",
     "output_type": "stream",
     "text": [
      "WARNING:absl:Found untraced functions such as lstm_cell_1_layer_call_fn, lstm_cell_1_layer_call_and_return_conditional_losses while saving (showing 2 of 2). These functions will not be directly callable after loading.\n"
     ]
    },
    {
     "name": "stdout",
     "output_type": "stream",
     "text": [
      "INFO:tensorflow:Assets written to: ./hand_lstm_train_result\\assets\n"
     ]
    },
    {
     "name": "stderr",
     "output_type": "stream",
     "text": [
      "INFO:tensorflow:Assets written to: ./hand_lstm_train_result\\assets\n"
     ]
    },
    {
     "name": "stdout",
     "output_type": "stream",
     "text": [
      "219/219 [==============================] - 3s 13ms/step - loss: 0.7696 - acc: 0.6931 - val_loss: 0.4959 - val_acc: 0.8342\n",
      "Epoch 31/100\n",
      "219/219 [==============================] - 1s 4ms/step - loss: 0.7862 - acc: 0.6905 - val_loss: 0.5645 - val_acc: 0.8213\n",
      "Epoch 32/100\n",
      "219/219 [==============================] - 1s 4ms/step - loss: 0.7977 - acc: 0.6915 - val_loss: 0.5321 - val_acc: 0.8252\n",
      "Epoch 33/100\n",
      "219/219 [==============================] - 1s 4ms/step - loss: 0.7883 - acc: 0.6935 - val_loss: 0.5256 - val_acc: 0.8201\n",
      "Epoch 34/100\n",
      "219/219 [==============================] - 1s 4ms/step - loss: 0.7331 - acc: 0.7103 - val_loss: 0.4686 - val_acc: 0.7956\n",
      "Epoch 35/100\n",
      "219/219 [==============================] - 1s 4ms/step - loss: 0.7226 - acc: 0.7182 - val_loss: 0.4701 - val_acc: 0.8098\n",
      "Epoch 36/100\n",
      "217/219 [============================>.] - ETA: 0s - loss: 0.7535 - acc: 0.7100"
     ]
    },
    {
     "name": "stderr",
     "output_type": "stream",
     "text": [
      "WARNING:absl:Found untraced functions such as lstm_cell_1_layer_call_fn, lstm_cell_1_layer_call_and_return_conditional_losses while saving (showing 2 of 2). These functions will not be directly callable after loading.\n"
     ]
    },
    {
     "name": "stdout",
     "output_type": "stream",
     "text": [
      "INFO:tensorflow:Assets written to: ./hand_lstm_train_result\\assets\n"
     ]
    },
    {
     "name": "stderr",
     "output_type": "stream",
     "text": [
      "INFO:tensorflow:Assets written to: ./hand_lstm_train_result\\assets\n"
     ]
    },
    {
     "name": "stdout",
     "output_type": "stream",
     "text": [
      "219/219 [==============================] - 3s 14ms/step - loss: 0.7539 - acc: 0.7101 - val_loss: 0.4661 - val_acc: 0.8432\n",
      "Epoch 37/100\n",
      "213/219 [============================>.] - ETA: 0s - loss: 0.7210 - acc: 0.7190"
     ]
    },
    {
     "name": "stderr",
     "output_type": "stream",
     "text": [
      "WARNING:absl:Found untraced functions such as lstm_cell_1_layer_call_fn, lstm_cell_1_layer_call_and_return_conditional_losses while saving (showing 2 of 2). These functions will not be directly callable after loading.\n"
     ]
    },
    {
     "name": "stdout",
     "output_type": "stream",
     "text": [
      "INFO:tensorflow:Assets written to: ./hand_lstm_train_result\\assets\n"
     ]
    },
    {
     "name": "stderr",
     "output_type": "stream",
     "text": [
      "INFO:tensorflow:Assets written to: ./hand_lstm_train_result\\assets\n"
     ]
    },
    {
     "name": "stdout",
     "output_type": "stream",
     "text": [
      "219/219 [==============================] - 3s 14ms/step - loss: 0.7204 - acc: 0.7191 - val_loss: 0.4555 - val_acc: 0.8573\n",
      "Epoch 38/100\n",
      "219/219 [==============================] - 1s 4ms/step - loss: 0.7350 - acc: 0.7153 - val_loss: 0.4677 - val_acc: 0.7995\n",
      "Epoch 39/100\n",
      "219/219 [==============================] - 1s 4ms/step - loss: 0.7422 - acc: 0.7166 - val_loss: 0.4443 - val_acc: 0.8213\n",
      "Epoch 40/100\n",
      "219/219 [==============================] - 1s 4ms/step - loss: 0.7273 - acc: 0.7192 - val_loss: 0.4455 - val_acc: 0.8393\n",
      "Epoch 41/100\n",
      "219/219 [==============================] - 1s 4ms/step - loss: 0.7107 - acc: 0.7301 - val_loss: 0.4451 - val_acc: 0.8445\n",
      "Epoch 42/100\n",
      "215/219 [============================>.] - ETA: 0s - loss: 0.6801 - acc: 0.7419"
     ]
    },
    {
     "name": "stderr",
     "output_type": "stream",
     "text": [
      "WARNING:absl:Found untraced functions such as lstm_cell_1_layer_call_fn, lstm_cell_1_layer_call_and_return_conditional_losses while saving (showing 2 of 2). These functions will not be directly callable after loading.\n"
     ]
    },
    {
     "name": "stdout",
     "output_type": "stream",
     "text": [
      "INFO:tensorflow:Assets written to: ./hand_lstm_train_result\\assets\n"
     ]
    },
    {
     "name": "stderr",
     "output_type": "stream",
     "text": [
      "INFO:tensorflow:Assets written to: ./hand_lstm_train_result\\assets\n"
     ]
    },
    {
     "name": "stdout",
     "output_type": "stream",
     "text": [
      "219/219 [==============================] - 3s 13ms/step - loss: 0.6826 - acc: 0.7419 - val_loss: 0.3983 - val_acc: 0.8728\n",
      "Epoch 43/100\n",
      "219/219 [==============================] - 1s 4ms/step - loss: 0.6549 - acc: 0.7552 - val_loss: 0.4211 - val_acc: 0.8522\n",
      "Epoch 44/100\n",
      "219/219 [==============================] - 1s 3ms/step - loss: 0.6660 - acc: 0.7435 - val_loss: 0.3942 - val_acc: 0.8676\n",
      "Epoch 45/100\n",
      "219/219 [==============================] - 1s 3ms/step - loss: 0.6679 - acc: 0.7525 - val_loss: 0.3741 - val_acc: 0.8650\n",
      "Epoch 46/100\n",
      "219/219 [==============================] - 1s 3ms/step - loss: 0.6534 - acc: 0.7572 - val_loss: 0.3724 - val_acc: 0.8625\n",
      "Epoch 47/100\n",
      "219/219 [==============================] - 1s 3ms/step - loss: 0.6795 - acc: 0.7495 - val_loss: 0.3977 - val_acc: 0.8638\n",
      "Epoch 48/100\n",
      "217/219 [============================>.] - ETA: 0s - loss: 0.6724 - acc: 0.7539"
     ]
    },
    {
     "name": "stderr",
     "output_type": "stream",
     "text": [
      "WARNING:absl:Found untraced functions such as lstm_cell_1_layer_call_fn, lstm_cell_1_layer_call_and_return_conditional_losses while saving (showing 2 of 2). These functions will not be directly callable after loading.\n"
     ]
    },
    {
     "name": "stdout",
     "output_type": "stream",
     "text": [
      "INFO:tensorflow:Assets written to: ./hand_lstm_train_result\\assets\n"
     ]
    },
    {
     "name": "stderr",
     "output_type": "stream",
     "text": [
      "INFO:tensorflow:Assets written to: ./hand_lstm_train_result\\assets\n"
     ]
    },
    {
     "name": "stdout",
     "output_type": "stream",
     "text": [
      "219/219 [==============================] - 3s 13ms/step - loss: 0.6719 - acc: 0.7542 - val_loss: 0.3703 - val_acc: 0.8805\n",
      "Epoch 49/100\n",
      "219/219 [==============================] - 1s 4ms/step - loss: 0.6578 - acc: 0.7592 - val_loss: 0.3896 - val_acc: 0.8560\n",
      "Epoch 50/100\n",
      "219/219 [==============================] - 1s 3ms/step - loss: 0.6478 - acc: 0.7615 - val_loss: 0.3396 - val_acc: 0.8740\n",
      "Epoch 51/100\n",
      "219/219 [==============================] - 1s 3ms/step - loss: 0.6236 - acc: 0.7752 - val_loss: 0.3664 - val_acc: 0.8599\n",
      "Epoch 52/100\n",
      "219/219 [==============================] - 1s 3ms/step - loss: 0.6377 - acc: 0.7636 - val_loss: 0.3363 - val_acc: 0.8715\n",
      "Epoch 53/100\n",
      "219/219 [==============================] - 1s 3ms/step - loss: 0.6512 - acc: 0.7688 - val_loss: 0.3516 - val_acc: 0.8612\n",
      "Epoch 54/100\n",
      "198/219 [==========================>...] - ETA: 0s - loss: 0.5953 - acc: 0.7824"
     ]
    },
    {
     "name": "stderr",
     "output_type": "stream",
     "text": [
      "WARNING:absl:Found untraced functions such as lstm_cell_1_layer_call_fn, lstm_cell_1_layer_call_and_return_conditional_losses while saving (showing 2 of 2). These functions will not be directly callable after loading.\n"
     ]
    },
    {
     "name": "stdout",
     "output_type": "stream",
     "text": [
      "INFO:tensorflow:Assets written to: ./hand_lstm_train_result\\assets\n"
     ]
    },
    {
     "name": "stderr",
     "output_type": "stream",
     "text": [
      "INFO:tensorflow:Assets written to: ./hand_lstm_train_result\\assets\n"
     ]
    },
    {
     "name": "stdout",
     "output_type": "stream",
     "text": [
      "219/219 [==============================] - 3s 12ms/step - loss: 0.6001 - acc: 0.7828 - val_loss: 0.3619 - val_acc: 0.8907\n",
      "Epoch 55/100\n",
      "219/219 [==============================] - 1s 4ms/step - loss: 0.6020 - acc: 0.7824 - val_loss: 0.3303 - val_acc: 0.8715\n",
      "Epoch 56/100\n",
      "219/219 [==============================] - 1s 3ms/step - loss: 0.6174 - acc: 0.7744 - val_loss: 0.3196 - val_acc: 0.8882\n",
      "Epoch 57/100\n",
      "219/219 [==============================] - 1s 3ms/step - loss: 0.6226 - acc: 0.7811 - val_loss: 0.3486 - val_acc: 0.8650\n",
      "Epoch 58/100\n",
      "219/219 [==============================] - 1s 3ms/step - loss: 0.6120 - acc: 0.7809 - val_loss: 0.3461 - val_acc: 0.8689\n",
      "Epoch 59/100\n",
      "219/219 [==============================] - 1s 3ms/step - loss: 0.5962 - acc: 0.7841 - val_loss: 0.3223 - val_acc: 0.8663\n",
      "Epoch 60/100\n",
      "204/219 [==========================>...] - ETA: 0s - loss: 0.5833 - acc: 0.7808"
     ]
    },
    {
     "name": "stderr",
     "output_type": "stream",
     "text": [
      "WARNING:absl:Found untraced functions such as lstm_cell_1_layer_call_fn, lstm_cell_1_layer_call_and_return_conditional_losses while saving (showing 2 of 2). These functions will not be directly callable after loading.\n"
     ]
    },
    {
     "name": "stdout",
     "output_type": "stream",
     "text": [
      "INFO:tensorflow:Assets written to: ./hand_lstm_train_result\\assets\n"
     ]
    },
    {
     "name": "stderr",
     "output_type": "stream",
     "text": [
      "INFO:tensorflow:Assets written to: ./hand_lstm_train_result\\assets\n"
     ]
    },
    {
     "name": "stdout",
     "output_type": "stream",
     "text": [
      "219/219 [==============================] - 3s 13ms/step - loss: 0.5830 - acc: 0.7829 - val_loss: 0.3275 - val_acc: 0.9049\n",
      "Epoch 61/100\n",
      "219/219 [==============================] - 1s 4ms/step - loss: 0.6255 - acc: 0.7761 - val_loss: 0.3131 - val_acc: 0.8856\n",
      "Epoch 62/100\n",
      "219/219 [==============================] - 1s 3ms/step - loss: 0.6099 - acc: 0.7819 - val_loss: 0.3101 - val_acc: 0.8702\n",
      "Epoch 63/100\n",
      "219/219 [==============================] - 1s 3ms/step - loss: 0.5824 - acc: 0.7921 - val_loss: 0.2888 - val_acc: 0.8985\n",
      "Epoch 64/100\n",
      "219/219 [==============================] - 1s 3ms/step - loss: 0.5434 - acc: 0.8039 - val_loss: 0.3126 - val_acc: 0.8920\n",
      "Epoch 65/100\n",
      "219/219 [==============================] - 1s 3ms/step - loss: 0.5596 - acc: 0.8024 - val_loss: 0.3245 - val_acc: 0.8779\n",
      "Epoch 66/100\n",
      "219/219 [==============================] - 1s 3ms/step - loss: 0.5727 - acc: 0.8011 - val_loss: 0.2949 - val_acc: 0.8959\n",
      "Epoch 67/100\n",
      "219/219 [==============================] - 1s 3ms/step - loss: 0.5818 - acc: 0.7898 - val_loss: 0.2834 - val_acc: 0.8689\n",
      "Epoch 68/100\n",
      "219/219 [==============================] - 1s 3ms/step - loss: 0.5576 - acc: 0.7999 - val_loss: 0.3502 - val_acc: 0.8779\n",
      "Epoch 69/100\n",
      "219/219 [==============================] - 1s 3ms/step - loss: 0.5731 - acc: 0.7955 - val_loss: 0.3387 - val_acc: 0.8753\n",
      "Epoch 70/100\n",
      "219/219 [==============================] - 1s 3ms/step - loss: 0.5457 - acc: 0.8077 - val_loss: 0.2932 - val_acc: 0.8856\n",
      "Epoch 71/100\n",
      "219/219 [==============================] - 1s 3ms/step - loss: 0.5168 - acc: 0.8098 - val_loss: 0.3009 - val_acc: 0.8959\n",
      "Epoch 72/100\n",
      "219/219 [==============================] - 1s 3ms/step - loss: 0.5327 - acc: 0.8101 - val_loss: 0.3023 - val_acc: 0.8959\n",
      "Epoch 73/100\n",
      "219/219 [==============================] - 1s 3ms/step - loss: 0.5439 - acc: 0.8061 - val_loss: 0.2895 - val_acc: 0.8907\n",
      "Epoch 74/100\n",
      "219/219 [==============================] - 1s 3ms/step - loss: 0.5970 - acc: 0.7978 - val_loss: 0.2940 - val_acc: 0.8972\n",
      "Epoch 75/100\n",
      "217/219 [============================>.] - ETA: 0s - loss: 0.5628 - acc: 0.8031"
     ]
    },
    {
     "name": "stderr",
     "output_type": "stream",
     "text": [
      "WARNING:absl:Found untraced functions such as lstm_cell_1_layer_call_fn, lstm_cell_1_layer_call_and_return_conditional_losses while saving (showing 2 of 2). These functions will not be directly callable after loading.\n"
     ]
    },
    {
     "name": "stdout",
     "output_type": "stream",
     "text": [
      "INFO:tensorflow:Assets written to: ./hand_lstm_train_result\\assets\n"
     ]
    },
    {
     "name": "stderr",
     "output_type": "stream",
     "text": [
      "INFO:tensorflow:Assets written to: ./hand_lstm_train_result\\assets\n"
     ]
    },
    {
     "name": "stdout",
     "output_type": "stream",
     "text": [
      "219/219 [==============================] - 3s 13ms/step - loss: 0.5624 - acc: 0.8035 - val_loss: 0.2801 - val_acc: 0.9190\n",
      "Epoch 76/100\n",
      "219/219 [==============================] - 1s 5ms/step - loss: 0.5304 - acc: 0.8195 - val_loss: 0.2787 - val_acc: 0.9126\n",
      "Epoch 77/100\n",
      "219/219 [==============================] - 1s 4ms/step - loss: 0.5161 - acc: 0.8258 - val_loss: 0.3151 - val_acc: 0.8766\n",
      "Epoch 78/100\n",
      "219/219 [==============================] - 1s 4ms/step - loss: 0.5410 - acc: 0.8117 - val_loss: 0.2636 - val_acc: 0.9139\n",
      "Epoch 79/100\n",
      "219/219 [==============================] - 1s 4ms/step - loss: 0.5464 - acc: 0.8152 - val_loss: 0.3008 - val_acc: 0.8856\n",
      "Epoch 80/100\n",
      "219/219 [==============================] - 1s 4ms/step - loss: 0.5465 - acc: 0.8084 - val_loss: 0.2893 - val_acc: 0.8907\n",
      "Epoch 81/100\n",
      "219/219 [==============================] - 1s 4ms/step - loss: 0.5235 - acc: 0.8218 - val_loss: 0.2714 - val_acc: 0.9100\n",
      "Epoch 82/100\n",
      "219/219 [==============================] - 1s 4ms/step - loss: 0.5206 - acc: 0.8229 - val_loss: 0.2657 - val_acc: 0.9152\n",
      "Epoch 83/100\n",
      "219/219 [==============================] - 1s 4ms/step - loss: 0.4975 - acc: 0.8297 - val_loss: 0.2672 - val_acc: 0.9062\n",
      "Epoch 84/100\n",
      "219/219 [==============================] - 1s 4ms/step - loss: 0.5319 - acc: 0.8261 - val_loss: 0.3094 - val_acc: 0.8907\n",
      "Epoch 85/100\n",
      "219/219 [==============================] - 1s 4ms/step - loss: 0.5924 - acc: 0.8035 - val_loss: 0.2914 - val_acc: 0.9139\n",
      "Epoch 86/100\n",
      "219/219 [==============================] - 1s 4ms/step - loss: 0.5346 - acc: 0.8229 - val_loss: 0.2801 - val_acc: 0.9010\n",
      "Epoch 87/100\n",
      "219/219 [==============================] - 1s 4ms/step - loss: 0.5052 - acc: 0.8242 - val_loss: 0.2930 - val_acc: 0.9049\n",
      "Epoch 88/100\n",
      "219/219 [==============================] - 1s 4ms/step - loss: 0.5608 - acc: 0.8084 - val_loss: 0.3280 - val_acc: 0.8869\n",
      "Epoch 89/100\n",
      "219/219 [==============================] - 1s 4ms/step - loss: 0.5213 - acc: 0.8229 - val_loss: 0.2957 - val_acc: 0.9010\n",
      "Epoch 90/100\n",
      "219/219 [==============================] - 1s 4ms/step - loss: 0.5009 - acc: 0.8294 - val_loss: 0.2811 - val_acc: 0.9152\n",
      "Epoch 91/100\n",
      "219/219 [==============================] - 1s 4ms/step - loss: 0.4820 - acc: 0.8357 - val_loss: 0.2727 - val_acc: 0.9190\n",
      "Epoch 92/100\n",
      "219/219 [==============================] - 1s 4ms/step - loss: 0.5002 - acc: 0.8318 - val_loss: 0.2623 - val_acc: 0.9165\n",
      "Epoch 93/100\n",
      "212/219 [============================>.] - ETA: 0s - loss: 0.5134 - acc: 0.8256"
     ]
    },
    {
     "name": "stderr",
     "output_type": "stream",
     "text": [
      "WARNING:absl:Found untraced functions such as lstm_cell_1_layer_call_fn, lstm_cell_1_layer_call_and_return_conditional_losses while saving (showing 2 of 2). These functions will not be directly callable after loading.\n"
     ]
    },
    {
     "name": "stdout",
     "output_type": "stream",
     "text": [
      "INFO:tensorflow:Assets written to: ./hand_lstm_train_result\\assets\n"
     ]
    },
    {
     "name": "stderr",
     "output_type": "stream",
     "text": [
      "INFO:tensorflow:Assets written to: ./hand_lstm_train_result\\assets\n"
     ]
    },
    {
     "name": "stdout",
     "output_type": "stream",
     "text": [
      "219/219 [==============================] - 3s 13ms/step - loss: 0.5153 - acc: 0.8252 - val_loss: 0.2526 - val_acc: 0.9293\n",
      "Epoch 94/100\n",
      "219/219 [==============================] - 1s 4ms/step - loss: 0.4845 - acc: 0.8417 - val_loss: 0.2613 - val_acc: 0.9165\n",
      "Epoch 95/100\n",
      "219/219 [==============================] - 1s 3ms/step - loss: 0.4770 - acc: 0.8418 - val_loss: 0.2561 - val_acc: 0.9203\n",
      "Epoch 96/100\n",
      "219/219 [==============================] - 1s 3ms/step - loss: 0.5095 - acc: 0.8395 - val_loss: 0.2778 - val_acc: 0.9075\n",
      "Epoch 97/100\n",
      "216/219 [============================>.] - ETA: 0s - loss: 0.4698 - acc: 0.8436"
     ]
    },
    {
     "name": "stderr",
     "output_type": "stream",
     "text": [
      "WARNING:absl:Found untraced functions such as lstm_cell_1_layer_call_fn, lstm_cell_1_layer_call_and_return_conditional_losses while saving (showing 2 of 2). These functions will not be directly callable after loading.\n"
     ]
    },
    {
     "name": "stdout",
     "output_type": "stream",
     "text": [
      "INFO:tensorflow:Assets written to: ./hand_lstm_train_result\\assets\n"
     ]
    },
    {
     "name": "stderr",
     "output_type": "stream",
     "text": [
      "INFO:tensorflow:Assets written to: ./hand_lstm_train_result\\assets\n"
     ]
    },
    {
     "name": "stdout",
     "output_type": "stream",
     "text": [
      "219/219 [==============================] - 3s 13ms/step - loss: 0.4693 - acc: 0.8440 - val_loss: 0.2299 - val_acc: 0.9319\n",
      "Epoch 98/100\n",
      "219/219 [==============================] - 1s 5ms/step - loss: 0.4818 - acc: 0.8391 - val_loss: 0.2756 - val_acc: 0.9216\n",
      "Epoch 99/100\n",
      "219/219 [==============================] - 1s 4ms/step - loss: 0.5290 - acc: 0.8228 - val_loss: 0.2694 - val_acc: 0.9139\n",
      "Epoch 100/100\n",
      "219/219 [==============================] - 1s 4ms/step - loss: 0.5021 - acc: 0.8378 - val_loss: 0.2984 - val_acc: 0.9165\n"
     ]
    },
    {
     "data": {
      "text/plain": [
       "<keras.callbacks.History at 0x1ce057416c0>"
      ]
     },
     "execution_count": 43,
     "metadata": {},
     "output_type": "execute_result"
    }
   ],
   "source": [
    "model.fit(X_train, y_train, validation_data=(X_test, y_test), epochs=100, callbacks=[cb_checkpoint, earlystopping])"
   ]
  },
  {
   "cell_type": "code",
   "execution_count": null,
   "id": "1a76be57-fa70-4a22-afab-921321d4aa62",
   "metadata": {},
   "outputs": [],
   "source": []
  }
 ],
 "metadata": {
  "kernelspec": {
   "display_name": "Python 3 (ipykernel)",
   "language": "python",
   "name": "python3"
  },
  "language_info": {
   "codemirror_mode": {
    "name": "ipython",
    "version": 3
   },
   "file_extension": ".py",
   "mimetype": "text/x-python",
   "name": "python",
   "nbconvert_exporter": "python",
   "pygments_lexer": "ipython3",
   "version": "3.10.14"
  }
 },
 "nbformat": 4,
 "nbformat_minor": 5
}
